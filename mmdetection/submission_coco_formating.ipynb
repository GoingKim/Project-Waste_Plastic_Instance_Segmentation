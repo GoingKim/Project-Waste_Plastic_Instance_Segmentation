{
 "cells": [
  {
   "cell_type": "code",
   "execution_count": 12,
   "id": "b37c3d3f",
   "metadata": {},
   "outputs": [],
   "source": [
    "# Libraries\n",
    "import os\n",
    "import json\n",
    "import pandas as pd\n",
    "import numpy as np\n",
    "from PIL import Image\n",
    "from glob import glob\n",
    "\n",
    "import matplotlib.pyplot as plt\n",
    "import matplotlib.patches as patches\n",
    "\n",
    "\n",
    "import warnings\n",
    "warnings.filterwarnings('ignore')"
   ]
  },
  {
   "cell_type": "code",
   "execution_count": 13,
   "id": "53a34faf",
   "metadata": {},
   "outputs": [
    {
     "data": {
      "text/plain": [
       "3996"
      ]
     },
     "execution_count": 13,
     "metadata": {},
     "output_type": "execute_result"
    }
   ],
   "source": [
    "# mmdetection에 입력가능한 coco data format을 만들기 위해 폴더안에 있는 파일들을 리스트화 한다.\n",
    "# train / val / final\n",
    "# original train data는 전체 4000개이지만 본 코드에서는 이미 이상치를 삭제하여 3996개로 프린트 될 수 있음.\n",
    "\n",
    "files = glob('./data/anno_train/*')\n",
    "len(files)"
   ]
  },
  {
   "cell_type": "code",
   "execution_count": 14,
   "id": "89db9ed8",
   "metadata": {},
   "outputs": [],
   "source": [
    "# convert annotations to coco format\n",
    "# 'images' key에 있는 id와 'annotations' key에 있는 image_id에 순차적으로 index 부여\n",
    "# 'annotaions' key에 있는 id에는 cnt라는 counter operator를 이용하여 순차적으로 index 부여\n",
    "\n",
    "imgs = []\n",
    "ann = []\n",
    "err_id = []\n",
    "cnt = 0    # id counter for annotations\n",
    "\n",
    "for idx, fl in enumerate(files, 1):\n",
    "    # error 발생하는 파일 찾아서 삭제\n",
    "    try:\n",
    "        dir = open(fl)\n",
    "        info = json.load(dir)\n",
    "    except:\n",
    "        print(fl)\n",
    "        continue\n",
    "\n",
    "    img = info['images'][0]\n",
    "    img['id'] = idx\n",
    "    \n",
    "    temp = []\n",
    "    for j in range(len(info['annotations'])):\n",
    "        cnt += 1\n",
    "        a = info['annotations'][j]\n",
    "        a['image_id'] = idx\n",
    "        a['id'] = cnt\n",
    "        temp.append(a)\n",
    "\n",
    "    cat = info['categories']\n",
    "    imgs.append(img)\n",
    "    ann.append(temp)\n",
    "       \n",
    "# transform 2D list to 1D list\n",
    "ann = sum(ann, [])        \n",
    "    \n",
    "dataset = {}\n",
    "\n",
    "dataset[\"images\"] = imgs\n",
    "dataset[\"categories\"] = cat \n",
    "dataset[\"annotations\"] = ann\n",
    "\n",
    "# save dataset as json format\n",
    "with open('./data/train.json', 'w') as f:\n",
    "    json.dump(dataset, f)"
   ]
  },
  {
   "cell_type": "code",
   "execution_count": 15,
   "id": "eea1d1eb",
   "metadata": {},
   "outputs": [],
   "source": [
    "# It happens to be so that the bounding boxes are lists and not ndarrays? Ndarrays are not JSON serialisable\n",
    "# TypeError: Argument 'bb' has incorrect type (expected numpy.ndarray, got list)\n",
    "# annotation이 polygon 형태가 아니라 pixel이나 line으로 된 경우 에러 발생\n",
    "# 잘못된 annotation을 제거하기 위해 image_id searching\n",
    "\n",
    "# Find JSON that gives errors\n",
    "JSON_LOC=\"/home/kerrykim/PycharmProjects/6.plastic_segmentation/mmdetection/data/train.json\"\n",
    "\n",
    "#Open JSON\n",
    "val_json = open(JSON_LOC, \"r\")\n",
    "json_object = json.load(val_json)\n",
    "val_json.close()\n",
    "\n",
    "for i, instance in enumerate(json_object[\"annotations\"]):\n",
    "    if len(instance[\"segmentation\"][0]) < 8:\n",
    "        print(\"instance number\", i, \"raises arror:\", instance[\"segmentation\"][0], \n",
    "              instance[\"image_id\"]) "
   ]
  },
  {
   "cell_type": "code",
   "execution_count": 16,
   "id": "a79297e9",
   "metadata": {},
   "outputs": [],
   "source": [
    "# image_id = 111, 3354로 파일이름을 찾아냄\n",
    "# print(dataset['images'][110])\n",
    "# print(dataset['images'][3352])"
   ]
  },
  {
   "cell_type": "code",
   "execution_count": 17,
   "id": "3520a8ba",
   "metadata": {},
   "outputs": [],
   "source": [
    "# PS_038_4646.json, PS_042_7482.json, PS_038_2948.jpg, PET_015_1358.jpg 파일에 대하여 train/annotation 폴더에서 삭제"
   ]
  },
  {
   "cell_type": "code",
   "execution_count": null,
   "id": "b7633145",
   "metadata": {},
   "outputs": [],
   "source": []
  }
 ],
 "metadata": {
  "kernelspec": {
   "display_name": "Python [conda env:seg_p3.9]",
   "language": "python",
   "name": "conda-env-seg_p3.9-py"
  },
  "language_info": {
   "codemirror_mode": {
    "name": "ipython",
    "version": 3
   },
   "file_extension": ".py",
   "mimetype": "text/x-python",
   "name": "python",
   "nbconvert_exporter": "python",
   "pygments_lexer": "ipython3",
   "version": "3.9.7"
  }
 },
 "nbformat": 4,
 "nbformat_minor": 5
}
